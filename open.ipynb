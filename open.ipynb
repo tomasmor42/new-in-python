{
 "metadata": {
  "language_info": {
   "codemirror_mode": {
    "name": "ipython",
    "version": 3
   },
   "file_extension": ".py",
   "mimetype": "text/x-python",
   "name": "python",
   "nbconvert_exporter": "python",
   "pygments_lexer": "ipython3",
   "version": "3.9.0"
  },
  "orig_nbformat": 2,
  "kernelspec": {
   "name": "python390jvsc74a57bd0aee8b7b246df8f9039afb4144a1f6fd8d2ca17a180786b69acc140d282b71a49",
   "display_name": "Python 3.9.0 64-bit"
  },
  "metadata": {
   "interpreter": {
    "hash": "aee8b7b246df8f9039afb4144a1f6fd8d2ca17a180786b69acc140d282b71a49"
   }
  }
 },
 "nbformat": 4,
 "nbformat_minor": 2,
 "cells": [
  {
   "source": [
    "# What's new in Python in 2021?"
   ],
   "cell_type": "markdown",
   "metadata": {}
  },
  {
   "source": [
    "## History of Python\n"
   ],
   "cell_type": "markdown",
   "metadata": {}
  },
  {
   "source": [
    "![python_versions](python_versions.png)"
   ],
   "cell_type": "markdown",
   "metadata": {}
  },
  {
   "source": [
    "Starting 2019 Annual release cycle for Python was introduced with [PEP-602](https://www.python.org/dev/peps/pep-0602/). What does it mean? \n",
    "* New 3.X.0 version every year\n",
    "* Feature development for 3.X+1.0 starts when 3.X.beta is released and longs for 12 months\n",
    "* 1.5 years of full support \n",
    "* 3.5 years of security fixes"
   ],
   "cell_type": "markdown",
   "metadata": {}
  },
  {
   "source": [
    "![release_calendar](pep-0602-example-release-calendar_bpiqwz0.png)"
   ],
   "cell_type": "markdown",
   "metadata": {}
  },
  {
   "source": [
    "# What's new in Python 3.9? \n",
    "\n",
    "Python 3.9 was released 2020-10-05. \n"
   ],
   "cell_type": "markdown",
   "metadata": {}
  },
  {
   "source": [
    "## Work with dictionaries\n",
    "Old-school:"
   ],
   "cell_type": "markdown",
   "metadata": {}
  },
  {
   "cell_type": "code",
   "execution_count": 22,
   "metadata": {},
   "outputs": [
    {
     "output_type": "execute_result",
     "data": {
      "text/plain": [
       "{2017: 'Rimini', 2018: 'Edinburgh', 2019: 'Basel', 2020: 'online'}"
      ]
     },
     "metadata": {},
     "execution_count": 22
    }
   ],
   "source": [
    "pycon = {2017: \"Portland\", 2018: \"Cleveland\", 2019: \"Cleveland\", 2020: \"online\"}\n",
    "europython = {2017: \"Rimini\", 2018: \"Edinburgh\", 2019: \"Basel\"}\n",
    "\n",
    "{**pycon, **europython}"
   ]
  },
  {
   "cell_type": "code",
   "execution_count": 7,
   "metadata": {},
   "outputs": [
    {
     "output_type": "execute_result",
     "data": {
      "text/plain": [
       "{2017: 'Rimini', 2018: 'Edinburgh', 2019: 'Basel', 2020: 'online'}"
      ]
     },
     "metadata": {},
     "execution_count": 7
    }
   ],
   "source": [
    "merged_dict = pycon.copy()\n",
    "for key, value in europython.items():\n",
    "    merged_dict[key] = value\n",
    "merged_dict"
   ]
  },
  {
   "cell_type": "code",
   "execution_count": 8,
   "metadata": {},
   "outputs": [
    {
     "output_type": "execute_result",
     "data": {
      "text/plain": [
       "{2017: 'Rimini', 2018: 'Edinburgh', 2019: 'Basel', 2020: 'online'}"
      ]
     },
     "metadata": {},
     "execution_count": 8
    }
   ],
   "source": [
    "pycon.update(europython)\n",
    "pycon"
   ]
  },
  {
   "source": [
    "Latest way is not returning changed dict but updates the original one. "
   ],
   "cell_type": "markdown",
   "metadata": {}
  },
  {
   "cell_type": "code",
   "execution_count": null,
   "metadata": {},
   "outputs": [],
   "source": [
    "merged_dict = pycon.copy().update(europython)"
   ]
  },
  {
   "cell_type": "code",
   "execution_count": 21,
   "metadata": {},
   "outputs": [
    {
     "output_type": "execute_result",
     "data": {
      "text/plain": [
       "ChainMap({2017: 'Amsterdam', 2018: 'Cleveland', 2019: 'Cleveland', 2020: 'online'}, {2017: 'Rimini', 2018: 'Edinburgh', 2019: 'Basel'})"
      ]
     },
     "metadata": {},
     "execution_count": 21
    }
   ],
   "source": [
    "from collections import ChainMap\n",
    "merged_dict = ChainMap(pycon, europython)\n",
    "merged_dict\n",
    "merged_dict[2017] = 'Amsterdam'\n",
    "merged_dict"
   ]
  },
  {
   "source": [
    "Python 3.8 "
   ],
   "cell_type": "markdown",
   "metadata": {}
  },
  {
   "cell_type": "code",
   "execution_count": 11,
   "metadata": {},
   "outputs": [
    {
     "output_type": "execute_result",
     "data": {
      "text/plain": [
       "{2017: 'Rimini', 2018: 'Edinburgh', 2019: 'Basel', 2020: 'online'}"
      ]
     },
     "metadata": {},
     "execution_count": 11
    }
   ],
   "source": [
    "(merged_dict := pycon.copy()).update(europython)\n",
    "merged_dict"
   ]
  },
  {
   "source": [
    "Python 3.9 [PEP-0614](https://www.python.org/dev/peps/pep-0614/)"
   ],
   "cell_type": "markdown",
   "metadata": {}
  },
  {
   "cell_type": "code",
   "execution_count": 13,
   "metadata": {},
   "outputs": [
    {
     "output_type": "execute_result",
     "data": {
      "text/plain": [
       "{2017: 'Rimini', 2018: 'Edinburgh', 2019: 'Basel', 2020: 'online'}"
      ]
     },
     "metadata": {},
     "execution_count": 13
    }
   ],
   "source": [
    "pycon | europython"
   ]
  },
  {
   "cell_type": "code",
   "execution_count": 14,
   "metadata": {},
   "outputs": [
    {
     "output_type": "execute_result",
     "data": {
      "text/plain": [
       "{2017: 'Portland', 2018: 'Cleveland', 2019: 'Cleveland', 2020: 'online'}"
      ]
     },
     "metadata": {},
     "execution_count": 14
    }
   ],
   "source": [
    "pycon"
   ]
  },
  {
   "cell_type": "code",
   "execution_count": 16,
   "metadata": {},
   "outputs": [
    {
     "output_type": "execute_result",
     "data": {
      "text/plain": [
       "{2017: 'Rimini', 2018: 'Edinburgh', 2019: 'Basel', 2020: 'online'}"
      ]
     },
     "metadata": {},
     "execution_count": 16
    }
   ],
   "source": [
    "pycon |= europython\n",
    "pycon"
   ]
  },
  {
   "source": [
    "Important to remember: "
   ],
   "cell_type": "markdown",
   "metadata": {}
  },
  {
   "cell_type": "code",
   "execution_count": 23,
   "metadata": {},
   "outputs": [
    {
     "output_type": "stream",
     "name": "stdout",
     "text": [
      "{2017: 'Portland', 2018: 'Cleveland', 2019: 'Cleveland', 2020: 'online'}\n{2017: 'Rimini', 2018: 'Edinburgh', 2019: 'Basel', 2020: 'online'}\n"
     ]
    }
   ],
   "source": [
    "print(europython | pycon)\n",
    "print(pycon | europython)"
   ]
  },
  {
   "source": [
    "| works not only with dictionaries (unlike **), but with other dict-structures (defaultdict, ChainMap, OrderedDict)"
   ],
   "cell_type": "markdown",
   "metadata": {}
  },
  {
   "source": [
    "## Work with decorators\n",
    "\n",
    "Old-style:"
   ],
   "cell_type": "markdown",
   "metadata": {}
  },
  {
   "cell_type": "code",
   "execution_count": null,
   "metadata": {},
   "outputs": [],
   "source": [
    "buttons = [QPushButton(f'Button {i}') for i in range(10)]\n",
    "button_0 = buttons[0]\n",
    "button_1 = buttons[1]\n",
    "\n",
    "@button_0.clicked.connect\n",
    "def say_hello():\n",
    "    message.setText(\"Hello, World!\")\n",
    "\n",
    "@button_1.clicked.connect\n",
    "def say_goodbye():\n",
    "    message.setText(\"Goodbye, World!\")\n"
   ]
  },
  {
   "source": [
    "Don't do this at home!\n",
    "\n",
    "Workarounds: "
   ],
   "cell_type": "markdown",
   "metadata": {}
  },
  {
   "cell_type": "code",
   "execution_count": null,
   "metadata": {},
   "outputs": [],
   "source": [
    "\n",
    "def _(x):\n",
    "    return x\n",
    "\n",
    "@_(buttons[0].clicked.connect)\n",
    "def say_hello():\n",
    "    ...\n"
   ]
  },
  {
   "cell_type": "code",
   "execution_count": null,
   "metadata": {},
   "outputs": [],
   "source": [
    "@eval(\"buttons[1].clicked.connect\")\n",
    "def say_bye():\n",
    "    ..."
   ]
  },
  {
   "source": [
    "Python 3.9"
   ],
   "cell_type": "markdown",
   "metadata": {}
  },
  {
   "cell_type": "code",
   "execution_count": null,
   "metadata": {},
   "outputs": [],
   "source": [
    "@buttons[0].clicked.connect\n",
    "def say_hello():\n",
    "    message.setText(\"Hello, World!\")\n",
    "\n",
    "@buttons[0].clicked.connect\n",
    "def say_goodbye():\n",
    "    message.setText(\"Goodbye, World!\")"
   ]
  },
  {
   "cell_type": "code",
   "execution_count": null,
   "metadata": {},
   "outputs": [],
   "source": [
    "buttons = {'hello': QPushButton('Hello!'), 'goodbye': QPushButton('Goodbye!')}\n",
    "@buttons['hello'].clicked.connect\n",
    "def say_hello():\n",
    "    message.setText(\"Hello, World!\")\n",
    "\n",
    "@buttons['goodbye'].clicked.connect\n",
    "def say_goodbye():\n",
    "    message.setText(\"Goodbye, World!\")"
   ]
  },
  {
   "source": [
    "* Easier to write clean code\n",
    "* Easier to choose decorators in runtime"
   ],
   "cell_type": "markdown",
   "metadata": {}
  },
  {
   "source": [
    "## Changes in typing syntax\n",
    " ### Generics\n",
    "\n",
    "> Generic (n.) -- a type that can be parameterized, typically a container. Also known as a parametric type or a generic type. For example: dict.\n",
    "\n",
    "> parameterized generic -- a specific instance of a generic with the expected types for container elements provided. Also known as a parameterized type. For example: dict\\[str, int\\].\n",
    "\n"
   ],
   "cell_type": "markdown",
   "metadata": {}
  },
  {
   "source": [
    "From Python 3.7:"
   ],
   "cell_type": "markdown",
   "metadata": {}
  },
  {
   "cell_type": "code",
   "execution_count": null,
   "metadata": {},
   "outputs": [],
   "source": [
    "from typing import List, Dict\n",
    "def find(haystack: Dict[str, List[int]]) -> int:\n",
    "    ..."
   ]
  },
  {
   "cell_type": "code",
   "execution_count": null,
   "metadata": {},
   "outputs": [],
   "source": []
  },
  {
   "source": [
    "From Python 3.9: \n",
    "* not required:\n",
    "    > from __future__ import annotations \n",
    "\n",
    "* extrenal tools like Mypy can recognize generics\n",
    "* not required:\n",
    "    > from typing import List, Dict etc\n"
   ],
   "cell_type": "markdown",
   "metadata": {}
  },
  {
   "source": [
    "### Annotations are extended\n",
    "\n",
    "In earlier Python versions annotations were available for documentation purposes: "
   ],
   "cell_type": "markdown",
   "metadata": {}
  },
  {
   "cell_type": "code",
   "execution_count": 24,
   "metadata": {},
   "outputs": [],
   "source": [
    "def speed(distance: \"feet\", time: \"seconds\") -> \"miles per hour\":\n",
    "    fps2mph = 3600 / 5280 \n",
    "    return distance / time * fps2mph"
   ]
  },
  {
   "source": [
    "From 3.9:"
   ],
   "cell_type": "markdown",
   "metadata": {}
  },
  {
   "cell_type": "code",
   "execution_count": null,
   "metadata": {},
   "outputs": [],
   "source": [
    "from typing import Annotated\n",
    "\n",
    "def speed(\n",
    "    distance: Annotated[float, \"feet\"], time: Annotated[float, \"seconds\"]) -> Annotated[float, \"miles per hour\"]:\n",
    "    fps2mph = 3600 / 5280  \n",
    "    return distance / time * fps2mph"
   ]
  },
  {
   "source": [
    "While annotations are checked, only first argument is checked. The second one is needed for documentation purposes:"
   ],
   "cell_type": "markdown",
   "metadata": {}
  },
  {
   "cell_type": "code",
   "execution_count": 25,
   "metadata": {},
   "outputs": [
    {
     "output_type": "execute_result",
     "data": {
      "text/plain": [
       "{'distance': 'feet', 'time': 'seconds', 'return': 'miles per hour'}"
      ]
     },
     "metadata": {},
     "execution_count": 25
    }
   ],
   "source": [
    "speed.__annotations__"
   ]
  },
  {
   "source": [
    "## Changes in timezones"
   ],
   "cell_type": "markdown",
   "metadata": {}
  },
  {
   "source": [
    "Before Python 3.9 recommended way of working with timezones was to use `python-dateutil`. This lib was not included into a standart library. All timestamps used in `datetime` were timezone not aware. "
   ],
   "cell_type": "markdown",
   "metadata": {}
  },
  {
   "source": [
    "From Python 3.9:\n"
   ],
   "cell_type": "markdown",
   "metadata": {}
  },
  {
   "cell_type": "code",
   "execution_count": 31,
   "metadata": {},
   "outputs": [
    {
     "output_type": "execute_result",
     "data": {
      "text/plain": [
       "(datetime.datetime(2021, 5, 4, 15, 58, 36, 295472, tzinfo=datetime.timezone.utc),\n",
       " datetime.datetime(2021, 5, 4, 17, 58, 36, 295477))"
      ]
     },
     "metadata": {},
     "execution_count": 31
    }
   ],
   "source": [
    "from datetime import datetime, timezone\n",
    "from zoneinfo import ZoneInfo\n",
    "local_tz = ZoneInfo('Europe/Amsterdam')\n",
    "datetime.now(tz=timezone.utc), datetime.now()\n"
   ]
  },
  {
   "source": [
    "Before Python 3.9 standart lib didn't know about the timezones (except utc), all alternative timezones had to be used from `pytz` which was not in standrat lib. \n",
    "\n",
    "From Python 3.9:"
   ],
   "cell_type": "markdown",
   "metadata": {}
  },
  {
   "cell_type": "code",
   "execution_count": 32,
   "metadata": {},
   "outputs": [
    {
     "output_type": "execute_result",
     "data": {
      "text/plain": [
       "(datetime.datetime(2021, 5, 4, 17, 58, 37, 765947, tzinfo=zoneinfo.ZoneInfo(key='Europe/Amsterdam')),)"
      ]
     },
     "metadata": {},
     "execution_count": 32
    }
   ],
   "source": [
    "from zoneinfo import ZoneInfo\n",
    "local_tz = ZoneInfo('Europe/Amsterdam')\n",
    "datetime.now(tz=local_tz)"
   ]
  },
  {
   "cell_type": "code",
   "execution_count": 33,
   "metadata": {},
   "outputs": [
    {
     "output_type": "execute_result",
     "data": {
      "text/plain": [
       "594"
      ]
     },
     "metadata": {},
     "execution_count": 33
    }
   ],
   "source": [
    "import zoneinfo\n",
    "tzs = zoneinfo.available_timezones()\n",
    "len(tzs)"
   ]
  },
  {
   "source": [
    "## New methods for working with strings\n",
    "\n",
    "* `strip` might seem to be a suitable candidate for removing suffix/postfix of a string but actually sometimes it's behaviour is [quite](https://stackoverflow.com/questions/4148974/removing-a-prefix-from-a-string) [confusing](https://bugs.python.org/issue37114)"
   ],
   "cell_type": "markdown",
   "metadata": {}
  },
  {
   "cell_type": "code",
   "execution_count": 34,
   "metadata": {},
   "outputs": [
    {
     "output_type": "execute_result",
     "data": {
      "text/plain": [
       "'ccc'"
      ]
     },
     "metadata": {},
     "execution_count": 34
    }
   ],
   "source": [
    "\"ababbbbbbaaccc\".lstrip(\"ab\")"
   ]
  },
  {
   "source": [
    "In Python 3.9 `removeprefix`, `removesuffix` were [introduced](https://www.python.org/dev/peps/pep-0616/)"
   ],
   "cell_type": "markdown",
   "metadata": {}
  },
  {
   "cell_type": "code",
   "execution_count": 35,
   "metadata": {},
   "outputs": [
    {
     "output_type": "execute_result",
     "data": {
      "text/plain": [
       "'abbbbbbaaccc'"
      ]
     },
     "metadata": {},
     "execution_count": 35
    }
   ],
   "source": [
    "\"ababbbbbbaaccc\".removeprefix(\"ab\")"
   ]
  },
  {
   "cell_type": "code",
   "execution_count": 36,
   "metadata": {},
   "outputs": [
    {
     "output_type": "execute_result",
     "data": {
      "text/plain": [
       "'ababbbbbbaacc'"
      ]
     },
     "metadata": {},
     "execution_count": 36
    }
   ],
   "source": [
    "\"ababbbbbbaaccc\".removesuffix(\"c\")"
   ]
  },
  {
   "cell_type": "code",
   "execution_count": 37,
   "metadata": {},
   "outputs": [
    {
     "output_type": "execute_result",
     "data": {
      "text/plain": [
       "'ababbbbbbaaccc'"
      ]
     },
     "metadata": {},
     "execution_count": 37
    }
   ],
   "source": [
    "\"ababbbbbbaaccc\".removesuffix(\"something else\")"
   ]
  },
  {
   "source": [
    "References:\n",
    "* https://docs.python.org/3/whatsnew/3.9.html#summary-release-highlights"
   ],
   "cell_type": "markdown",
   "metadata": {}
  },
  {
   "source": [
    "# Python 3.10\n",
    "\n",
    "The latest release of Python 3.10 is [0b1](https://www.python.org/downloads/release/python-3100b1/) \n",
    "\n",
    "Since it's beta version, it's not yet available in package managers such as brew. To install it you have to manually (or with wget) download the build and install it on your machine. \n",
    "\n",
    "## Structural Pattern Matching\n",
    "\n",
    "Python3.9 and earlier:\n"
   ],
   "cell_type": "markdown",
   "metadata": {}
  },
  {
   "cell_type": "code",
   "execution_count": null,
   "metadata": {},
   "outputs": [],
   "source": [
    "if isinstance(x, tuple) and len(x) == 2:\n",
    "    host, port = x\n",
    "    mode = \"http\"\n",
    "elif isinstance(x, tuple) and len(x) == 3:\n",
    "    host, port, mode = x\n",
    "    ..."
   ]
  },
  {
   "source": [
    "New pattern matching was [introduced](https://www.python.org/dev/peps/pep-0635/)  \n",
    "\n",
    "Python 3.10:"
   ],
   "cell_type": "markdown",
   "metadata": {}
  },
  {
   "cell_type": "code",
   "execution_count": null,
   "metadata": {},
   "outputs": [],
   "source": [
    "match x:\n",
    "    case host, port:\n",
    "        mode = \"http\"\n",
    "    case host, port, mode:\n",
    "        pass\n",
    "    ..."
   ]
  },
  {
   "cell_type": "code",
   "execution_count": null,
   "metadata": {},
   "outputs": [],
   "source": [
    "def http_error(status):\n",
    "    match status:\n",
    "        case 400:\n",
    "            return \"Bad request\"\n",
    "        case 404:\n",
    "            return \"Not found\"\n",
    "        case 418:\n",
    "            return \"I'm a teapot\"\n",
    "        case _:\n",
    "            return \"Something's wrong with the Internet\""
   ]
  },
  {
   "source": [
    "Replacement of Union for typing:\n",
    "Old way:"
   ],
   "cell_type": "markdown",
   "metadata": {}
  },
  {
   "cell_type": "code",
   "execution_count": null,
   "metadata": {},
   "outputs": [],
   "source": [
    "from typing import Union\n",
    "\n",
    "def square(number: Union[int, float]) -> Union[int, float]:\n",
    "    return number ** 2\n"
   ]
  },
  {
   "source": [
    "New way:\n"
   ],
   "cell_type": "markdown",
   "metadata": {}
  },
  {
   "cell_type": "code",
   "execution_count": null,
   "metadata": {},
   "outputs": [],
   "source": [
    "def square(number: int | float) -> int | float:\n",
    "    return number ** 2"
   ]
  },
  {
   "source": [
    "## Context managers"
   ],
   "cell_type": "markdown",
   "metadata": {}
  },
  {
   "cell_type": "code",
   "execution_count": null,
   "metadata": {},
   "outputs": [],
   "source": [
    "with (\n",
    "    CtxManager1(),\n",
    "    CtxManager2()\n",
    "):\n",
    "    ...\n",
    "\n",
    "with (CtxManager1() as example,\n",
    "      CtxManager2()):\n",
    "    ...\n",
    "\n",
    "with (\n",
    "    CtxManager1() as example1,\n",
    "    CtxManager2() as example2\n",
    "):\n",
    "    ..."
   ]
  },
  {
   "source": [
    "## Better error messages"
   ],
   "cell_type": "markdown",
   "metadata": {}
  },
  {
   "cell_type": "code",
   "execution_count": null,
   "metadata": {},
   "outputs": [],
   "source": [
    "expected = {9: 1, 18: 2, 19: 2, 27: 3, 28: 3, 29: 3, 36: 4, 37: 4,\n",
    "           ^\n",
    "SyntaxError: '{' was never closed"
   ]
  },
  {
   "cell_type": "code",
   "execution_count": null,
   "metadata": {},
   "outputs": [],
   "source": [
    ">>> if rocket.position > event_horizon\n",
    "  File \"<stdin>\", line 1\n",
    "    if rocket.position > event_horizon\n",
    "                                      ^\n",
    "SyntaxError: expected ':'"
   ]
  },
  {
   "cell_type": "code",
   "execution_count": null,
   "metadata": {},
   "outputs": [],
   "source": [
    ">>> {x,y for x,y in range(100)}\n",
    "  File \"<stdin>\", line 1\n",
    "    {x,y for x,y in range(100)}\n",
    "     ^\n",
    "SyntaxError: did you forget parentheses around the comprehension target?"
   ]
  },
  {
   "cell_type": "code",
   "execution_count": null,
   "metadata": {},
   "outputs": [],
   "source": [
    " if rocket.position = event_horizon:\n",
    "  File \"<stdin>\", line 1\n",
    "    if rocket.position = event_horizon:\n",
    "                       ^\n",
    "SyntaxError: cannot assign to attribute here. Maybe you meant '==' instead"
   ]
  },
  {
   "cell_type": "code",
   "execution_count": null,
   "metadata": {},
   "outputs": [],
   "source": [
    "def foo():\n",
    "...    if lel:\n",
    "...    x = 2\n",
    "  File \"<stdin>\", line 3\n",
    "    x = 2\n",
    "    ^\n",
    "IndentationError: expected an indented block after 'if' statement in line 2"
   ]
  },
  {
   "source": [
    "## Other\n",
    "\n",
    "* The entire distutils package is deprecated, to be removed in Python 3.12. Its functionality for specifying package builds has already been completely replaced by third-party packages setuptools and packaging,\n",
    "\n",
    "* Improved [debugging](https://www.python.org/dev/peps/pep-0626/)\n"
   ],
   "cell_type": "markdown",
   "metadata": {}
  },
  {
   "source": [
    "For the full list of changes you can check the [changelog](https://docs.python.org/3.10/whatsnew/changelog.html#changelog)"
   ],
   "cell_type": "markdown",
   "metadata": {}
  }
 ]
}