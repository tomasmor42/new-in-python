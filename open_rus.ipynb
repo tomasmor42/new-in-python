{
 "cells": [
  {
   "cell_type": "markdown",
   "metadata": {},
   "source": [
    "# Что нового появилось в Python в 2021 году?"
   ]
  },
  {
   "cell_type": "markdown",
   "metadata": {},
   "source": [
    "## Краткая история Python\n"
   ]
  },
  {
   "source": [
    "Python был разработан около тридцати лет назад, первая его официальная версия вышла в 1991 году и имела номер 0.9. После этого довольно долгое время язык развивался, и популярность он получил в 2000-х годах, во время мажорной второй версии. Однако уже тогда  было понятно, что в языке необходимы изменения, которые будут обратно несовместимы с текущими версиями, такие как например, изменения в поведении юникодных строк. Однако вторая версия Python была уже очень популярна к этому моменту, поэтому третья работа над третьей версией велась одновременно с работой над 2.7. Довольно долго у core-разработчиков Python не было определенной стратегии, поэтому до версии 3.4 изменения были довольно хаотичны. "
   ],
   "cell_type": "markdown",
   "metadata": {}
  },
  {
   "cell_type": "markdown",
   "metadata": {},
   "source": [
    "![python_versions](python_versions.png)"
   ]
  },
  {
   "cell_type": "markdown",
   "metadata": {},
   "source": [
    "С 2019 года Python адаптирует годичные релизные циклы. Это изменение было представлено в [PEP-602](https://www.python.org/dev/peps/pep-0602/) Что это значит для пользоватеоей Python? \n",
    "* новая минорная (3.X.0) версия выходит каждый год\n",
    "* фаза активной разработки версии 3.X+1.0 начинается в тот момент, когда в релих отправляется 3.X.beta и продолжается 12 месяцев\n",
    "* каждая минорная версия активно поддерживается в течении полутора лет\n",
    "* каждая минорная версия получает обновления безопасности в течении трех с половиной лет\n",
    "Пример расписания релизов для версии 3.9 можно посмотреть на рисунке: "
   ]
  },
  {
   "cell_type": "markdown",
   "metadata": {},
   "source": [
    "![release_calendar](pep-0602-example-release-calendar_bpiqwz0.png)"
   ]
  },
  {
   "cell_type": "markdown",
   "metadata": {},
   "source": [
    "# What's new in Python 3.9? \n",
    "\n",
    "Релиз Python 3.9 произошел 2020-10-05. Рассмотрим что есть нового в этой версии. \n"
   ]
  },
  {
   "cell_type": "markdown",
   "metadata": {},
   "source": [
    "## Работа со словарями\n",
    "\n",
    "Допустим, есть два словаря, которые мы зотим объединить. \n",
    "\n",
    "В версиях до 3.9 можно было бы сделать таким образом:"
   ]
  },
  {
   "cell_type": "code",
   "execution_count": 9,
   "metadata": {},
   "outputs": [
    {
     "output_type": "execute_result",
     "data": {
      "text/plain": [
       "{2017: 'Rimini', 2018: 'Edinburgh', 2019: 'Basel', 2020: 'online'}"
      ]
     },
     "metadata": {},
     "execution_count": 9
    }
   ],
   "source": [
    "pycon = {2017: \"Portland\", 2018: \"Cleveland\", 2019: \"Cleveland\", 2020: \"online\"}\n",
    "europython = {2017: \"Rimini\", 2018: \"Edinburgh\", 2019: \"Basel\"}\n",
    "\n",
    "{**pycon, **europython}"
   ]
  },
  {
   "source": [
    "Синтаксис `**` разворачивает словарь, и когда они объединяются, более позднее значение затирается более новым. Аналогичные дейтсвия можно совершить, если использовать следующий синтаксис:"
   ],
   "cell_type": "markdown",
   "metadata": {}
  },
  {
   "cell_type": "code",
   "execution_count": 7,
   "metadata": {},
   "outputs": [
    {
     "data": {
      "text/plain": [
       "{2017: 'Rimini', 2018: 'Edinburgh', 2019: 'Basel', 2020: 'online'}"
      ]
     },
     "execution_count": 7,
     "metadata": {},
     "output_type": "execute_result"
    }
   ],
   "source": [
    "merged_dict = pycon.copy()\n",
    "for key, value in europython.items():\n",
    "    merged_dict[key] = value\n",
    "merged_dict"
   ]
  },
  {
   "source": [
    "Или таким образом:"
   ],
   "cell_type": "markdown",
   "metadata": {}
  },
  {
   "cell_type": "code",
   "execution_count": 8,
   "metadata": {},
   "outputs": [
    {
     "data": {
      "text/plain": [
       "{2017: 'Rimini', 2018: 'Edinburgh', 2019: 'Basel', 2020: 'online'}"
      ]
     },
     "execution_count": 8,
     "metadata": {},
     "output_type": "execute_result"
    }
   ],
   "source": [
    "pycon.update(europython)\n",
    "pycon"
   ]
  },
  {
   "cell_type": "markdown",
   "metadata": {},
   "source": [
    "Этот способ пойдойдет в случае если нужно изменить первоначальный словарь. "
   ]
  },
  {
   "cell_type": "code",
   "execution_count": 14,
   "metadata": {},
   "outputs": [
    {
     "output_type": "execute_result",
     "data": {
      "text/plain": [
       "{2017: 'Portland', 2018: 'Cleveland', 2019: 'Cleveland', 2020: 'online'}"
      ]
     },
     "metadata": {},
     "execution_count": 14
    }
   ],
   "source": [
    "merged_dict = pycon.copy().update(europython)"
   ]
  },
  {
   "cell_type": "code",
   "execution_count": null,
   "metadata": {},
   "outputs": [],
   "source": [
    "Однако если нужно сохранить эти данные в новом словаре, этим способом воспользоваться нельзя, в последнем примере"
   ]
  },
  {
   "cell_type": "code",
   "execution_count": 17,
   "metadata": {},
   "outputs": [
    {
     "output_type": "execute_result",
     "data": {
      "text/plain": [
       "True"
      ]
     },
     "metadata": {},
     "execution_count": 17
    }
   ],
   "source": [
    "merged_dict is None"
   ]
  },
  {
   "source": [
    "В библиотеке collections есть объект ChainMap, который тоже обхединяет словари, но его результатом будет объект ChainMap, а не словарь. Он состоит из нескольких словарей, следующих друг за другом. Если взять значение по ключу, то вернется то значение, которое встречается раньше. То есть, в этом примере для ключа 2019, вернется значение Cleveland"
   ],
   "cell_type": "markdown",
   "metadata": {}
  },
  {
   "cell_type": "code",
   "execution_count": 28,
   "metadata": {},
   "outputs": [
    {
     "output_type": "execute_result",
     "data": {
      "text/plain": [
       "ChainMap({2017: 'Amsterdam', 2018: 'Cleveland', 2019: 'Cleveland', 2020: 'online'}, {2017: 'Rimini', 2018: 'Edinburgh', 2019: 'Basel'})"
      ]
     },
     "metadata": {},
     "execution_count": 28
    }
   ],
   "source": [
    "from collections import ChainMap\n",
    "merged_dict = ChainMap(pycon, europython)\n",
    "merged_dict"
   ]
  },
  {
   "cell_type": "markdown",
   "metadata": {},
   "source": [
    "В Python 3.8 был представлен walrus-оператор. С его помощью можно решить проблему примера с update и скопировать словарь в новую переменную:"
   ]
  },
  {
   "cell_type": "code",
   "execution_count": 11,
   "metadata": {},
   "outputs": [
    {
     "data": {
      "text/plain": [
       "{2017: 'Rimini', 2018: 'Edinburgh', 2019: 'Basel', 2020: 'online'}"
      ]
     },
     "execution_count": 11,
     "metadata": {},
     "output_type": "execute_result"
    }
   ],
   "source": [
    "(merged_dict := pycon.copy()).update(europython)\n",
    "merged_dict"
   ]
  },
  {
   "cell_type": "markdown",
   "metadata": {},
   "source": [
    "В Python 3.9 в [PEP-0614](https://www.python.org/dev/peps/pep-0614/) добавлен синтаксис | (читается как pipe), который объединяет словари аналогично первому примеру:"
   ]
  },
  {
   "cell_type": "code",
   "execution_count": 13,
   "metadata": {},
   "outputs": [
    {
     "data": {
      "text/plain": [
       "{2017: 'Rimini', 2018: 'Edinburgh', 2019: 'Basel', 2020: 'online'}"
      ]
     },
     "execution_count": 13,
     "metadata": {},
     "output_type": "execute_result"
    }
   ],
   "source": [
    "pycon | europython"
   ]
  },
  {
   "source": [
    "При этом первоначальный словарь не меняется:"
   ],
   "cell_type": "markdown",
   "metadata": {}
  },
  {
   "cell_type": "code",
   "execution_count": 14,
   "metadata": {},
   "outputs": [
    {
     "data": {
      "text/plain": [
       "{2017: 'Portland', 2018: 'Cleveland', 2019: 'Cleveland', 2020: 'online'}"
      ]
     },
     "execution_count": 14,
     "metadata": {},
     "output_type": "execute_result"
    }
   ],
   "source": [
    "pycon"
   ]
  },
  {
   "source": [
    "Если все-таки нужно обновить первоначальный словарь, можно воспользоваться синтаксисом |= (работает по аналогии с +=):\n",
    "a |= b\n",
    "a = a|b\n"
   ],
   "cell_type": "markdown",
   "metadata": {}
  },
  {
   "cell_type": "code",
   "execution_count": 16,
   "metadata": {},
   "outputs": [
    {
     "data": {
      "text/plain": [
       "{2017: 'Rimini', 2018: 'Edinburgh', 2019: 'Basel', 2020: 'online'}"
      ]
     },
     "execution_count": 16,
     "metadata": {},
     "output_type": "execute_result"
    }
   ],
   "source": [
    "pycon |= europython\n",
    "pycon"
   ]
  },
  {
   "cell_type": "markdown",
   "metadata": {},
   "source": [
    "Важно помнить, что поскольку более поздние значения перезаписывают более ранние значения, эта операция может быть не коммуникативна. "
   ]
  },
  {
   "cell_type": "code",
   "execution_count": 23,
   "metadata": {},
   "outputs": [
    {
     "name": "stdout",
     "output_type": "stream",
     "text": [
      "{2017: 'Portland', 2018: 'Cleveland', 2019: 'Cleveland', 2020: 'online'}\n",
      "{2017: 'Rimini', 2018: 'Edinburgh', 2019: 'Basel', 2020: 'online'}\n"
     ]
    }
   ],
   "source": [
    "print(europython | pycon)\n",
    "print(pycon | europython)"
   ]
  },
  {
   "cell_type": "markdown",
   "metadata": {},
   "source": [
    "Синтаксис | работает только непосредственно со словарями, тогда как синтаксис ** работает и с orderedict и с другими подобными словарям объектами. "
   ]
  },
  {
   "cell_type": "markdown",
   "metadata": {},
   "source": [
    "## Изменения в работе с декораторами\n",
    "\n",
    "До версии 3.9 в качестве декораторов могли выступать функции или классы, но не такие объекты как списки или словари. Рассмотрим пример, в котором это будет удобно использовать. \n",
    "Допустим есть UI-приложение с кнопками, и нужно добавить какое-то сообщение по нажатию на каждую кнопку. Было бы удобно это сделать с помощью декоратора, но что делать, если для каждой кнопки нужно печатать различные сообщения. Это можно сделать следующим образом:"
   ]
  },
  {
   "cell_type": "code",
   "execution_count": null,
   "metadata": {},
   "outputs": [],
   "source": [
    "buttons = [QPushButton(f'Button {i}') for i in range(10)]\n",
    "button_0 = buttons[0]\n",
    "button_1 = buttons[1]\n",
    "\n",
    "@button_0.clicked.connect\n",
    "def say_hello():\n",
    "    message.setText(\"Hello, World!\")\n",
    "\n",
    "@button_1.clicked.connect\n",
    "def say_goodbye():\n",
    "    message.setText(\"Goodbye, World!\")\n"
   ]
  },
  {
   "cell_type": "markdown",
   "metadata": {},
   "source": [
    "Создаем list comprehension из функций, явно присваем объектам значения элементов списка, и их можно использовать в качестве декораторов. Это будет работать, однако не будет эффективно, если объектов из которых будут созданы декораторы, будет достаточно много. \n",
    "\n",
    "Это не единственный способ, но другие будут довольно неоднозначными. Рассмотрим два из них. В первом случае создадим функцию, которая будет возвращать необходимую для декоратора функцию:\n"
   ]
  },
  {
   "cell_type": "code",
   "execution_count": null,
   "metadata": {},
   "outputs": [],
   "source": [
    "\n",
    "def _(x):\n",
    "    return x\n",
    "\n",
    "@_(buttons[0].clicked.connect)\n",
    "def say_hello():\n",
    "    ...\n"
   ]
  },
  {
   "source": [
    "Использование `eval`:"
   ],
   "cell_type": "markdown",
   "metadata": {}
  },
  {
   "cell_type": "code",
   "execution_count": null,
   "metadata": {},
   "outputs": [],
   "source": [
    "@eval(\"buttons[1].clicked.connect\")\n",
    "def say_bye():\n",
    "    ..."
   ]
  },
  {
   "cell_type": "markdown",
   "metadata": {},
   "source": [
    "В Python 3.9 стало возможно создавать декораторы из любых объектов, например из элементов списков и словарей. Можно рассмотреть синтаксис, который реализует тот же самый пример:"
   ]
  },
  {
   "cell_type": "code",
   "execution_count": null,
   "metadata": {},
   "outputs": [],
   "source": [
    "@buttons[0].clicked.connect\n",
    "def say_hello():\n",
    "    message.setText(\"Hello, World!\")\n",
    "\n",
    "@buttons[1].clicked.connect\n",
    "def say_goodbye():\n",
    "    message.setText(\"Goodbye, World!\")"
   ]
  },
  {
   "source": [
    "Похожим образом будет выглядеть синтаксис для значений словаря:"
   ],
   "cell_type": "markdown",
   "metadata": {}
  },
  {
   "cell_type": "code",
   "execution_count": null,
   "metadata": {},
   "outputs": [],
   "source": [
    "buttons = {'hello': QPushButton('Hello!'), 'goodbye': QPushButton('Goodbye!')}\n",
    "@buttons['hello'].clicked.connect\n",
    "def say_hello():\n",
    "    message.setText(\"Hello, World!\")\n",
    "\n",
    "@buttons['goodbye'].clicked.connect\n",
    "def say_goodbye():\n",
    "    message.setText(\"Goodbye, World!\")"
   ]
  },
  {
   "cell_type": "markdown",
   "metadata": {},
   "source": [
    "Этот функционал, несмотря на то, что не приносит новых возможностей, позволяет писать более чистый код и избегать рискованных решений вроде использования `eval`."
   ]
  },
  {
   "cell_type": "markdown",
   "metadata": {},
   "source": [
    "## Изменения в синтаксисе типирования\n",
    " ### Дженерики\n",
    "\n",
    "Дженерики это типы, которые могут быть параметризованы, обычно являются контейнерами, например dict. Параметризованные дженерики это типы, для которых указан внутренний тип, например dict\\[str, int\\]\n",
    "\n",
    "\n"
   ]
  },
  {
   "cell_type": "markdown",
   "metadata": {},
   "source": [
    "Начиная с Python 3.7 стало можно указывать тип объекта, конкретизируя тип внутренних элементов контейнеры. Но для этого нужно было импортировать таки типы как `List` из модуля `typing`:"
   ]
  },
  {
   "cell_type": "code",
   "execution_count": null,
   "metadata": {},
   "outputs": [],
   "source": [
    "from typing import List, Dict\n",
    "def find(haystack: Dict[str, List[int]]) -> int:\n",
    "#def find(haystack: dict) -> int:\n",
    "    ..."
   ]
  },
  {
   "source": [
    "Можно было не конкретизировать тип внутренних значений, для этого не нужно было импортировать дополинтельные типы и можно было использовать стандартные типы dict и list. \n",
    "Благодаря этому нововведению, внешние библиотеки такие как Mypy стали распознавать дженерики. "
   ],
   "cell_type": "markdown",
   "metadata": {}
  },
  {
   "cell_type": "markdown",
   "metadata": {},
   "source": [
    "Также, в версии 3.9 стало можно пользоваться аннотациями без явного их импорта из модуля `__future__`"
   ]
  },
  {
   "cell_type": "markdown",
   "metadata": {},
   "source": [
    "### Расширение возможностей аннотаций\n",
    "\n",
    "Аннотации были доступны для использования и в более ранних версиях Python, однако их функция была скорее информационной, использовались они в первую очередь для документации. Синтаксис использования аннотаций до Python 3.9 выглядел таким образом:"
   ]
  },
  {
   "cell_type": "code",
   "execution_count": 24,
   "metadata": {},
   "outputs": [],
   "source": [
    "def speed(distance: \"feet\", time: \"seconds\") -> \"miles per hour\":\n",
    "    fps2mph = 3600 / 5280 \n",
    "    return distance / time * fps2mph"
   ]
  },
  {
   "cell_type": "markdown",
   "metadata": {},
   "source": [
    "В Python 3.9 появился новый объект типа Annotated, который принимает на вход два аргумента, первый это реальный тип, которым должен обладать аннотриуемый объект, а второй это название для целей документации: "
   ]
  },
  {
   "cell_type": "code",
   "execution_count": null,
   "metadata": {},
   "outputs": [],
   "source": [
    "from typing import Annotated\n",
    "\n",
    "def speed(\n",
    "    distance: Annotated[float, \"feet\"], time: Annotated[float, \"seconds\"]) -> Annotated[float, \"miles per hour\"]:\n",
    "    fps2mph = 3600 / 5280  \n",
    "    return distance / time * fps2mph"
   ]
  },
  {
   "cell_type": "markdown",
   "metadata": {},
   "source": [
    "Когда происходит проверка аннотаций, проверяется только первый аргумент, в котором находится \"реальный\" тип объекта, а второй использовуется как и в предыдущих версиях:"
   ]
  },
  {
   "cell_type": "code",
   "execution_count": 25,
   "metadata": {},
   "outputs": [
    {
     "data": {
      "text/plain": [
       "{'distance': 'feet', 'time': 'seconds', 'return': 'miles per hour'}"
      ]
     },
     "execution_count": 25,
     "metadata": {},
     "output_type": "execute_result"
    }
   ],
   "source": [
    "speed.__annotations__"
   ]
  },
  {
   "cell_type": "markdown",
   "metadata": {},
   "source": [
    "## Изменения связанные с часовыми поясами"
   ]
  },
  {
   "cell_type": "markdown",
   "metadata": {},
   "source": [
    "В предыдущих версиях Python, модуль `datetime` не содержал информации о часовых поясах, и рекомендованным способом работы с ними была библиотека  `python-dateutil`. "
   ]
  },
  {
   "cell_type": "markdown",
   "metadata": {},
   "source": [
    "Однако начиная с Python 3.9 появился модуль zoneinfo, который содержит информацию о часовых поясах и позволяет создавать объекты им соответствующие:\n"
   ]
  },
  {
   "cell_type": "code",
   "execution_count": 31,
   "metadata": {},
   "outputs": [
    {
     "data": {
      "text/plain": [
       "(datetime.datetime(2021, 5, 4, 15, 58, 36, 295472, tzinfo=datetime.timezone.utc),\n",
       " datetime.datetime(2021, 5, 4, 17, 58, 36, 295477))"
      ]
     },
     "execution_count": 31,
     "metadata": {},
     "output_type": "execute_result"
    }
   ],
   "source": [
    "from datetime import datetime, timezone\n",
    "from zoneinfo import ZoneInfo\n",
    "local_tz = ZoneInfo('Europe/Amsterdam')\n",
    "datetime.now(tz=timezone.utc), datetime.now()\n"
   ]
  },
  {
   "cell_type": "markdown",
   "metadata": {},
   "source": [
    "В стандартной библиотеке не было информации ни о каких часовых поясах, кроме utc, и необходимо было использовать `pytz` чтобы создать объект, содержащий информацию о часовом поясе. Теперь это можно сделать без установки дополнительных библиотек:"
   ]
  },
  {
   "cell_type": "code",
   "execution_count": 32,
   "metadata": {},
   "outputs": [
    {
     "data": {
      "text/plain": [
       "(datetime.datetime(2021, 5, 4, 17, 58, 37, 765947, tzinfo=zoneinfo.ZoneInfo(key='Europe/Amsterdam')),)"
      ]
     },
     "execution_count": 32,
     "metadata": {},
     "output_type": "execute_result"
    }
   ],
   "source": [
    "from zoneinfo import ZoneInfo\n",
    "local_tz = ZoneInfo('Europe/Amsterdam')\n",
    "datetime.now(tz=local_tz)"
   ]
  },
  {
   "cell_type": "code",
   "execution_count": null,
   "metadata": {},
   "outputs": [],
   "source": [
    "Всего часовых поясов больше чем можно было бы предположить, и многие из них представлены в модуле `zoneinfo`"
   ]
  },
  {
   "cell_type": "code",
   "execution_count": 33,
   "metadata": {},
   "outputs": [
    {
     "data": {
      "text/plain": [
       "594"
      ]
     },
     "execution_count": 33,
     "metadata": {},
     "output_type": "execute_result"
    }
   ],
   "source": [
    "import zoneinfo\n",
    "tzs = zoneinfo.available_timezones()\n",
    "len(tzs)"
   ]
  },
  {
   "cell_type": "markdown",
   "metadata": {},
   "source": [
    "## Новые методы работы со строкам\n",
    "\n",
    "Иногда нужно убрать первые или последние несколько символов из строки. Есть метод `strip`, который обладает казалось бы похожим функционалом, но он может иногда давать [неожиданные](https://stackoverflow.com/questions/4148974/removing-a-prefix-from-a-string) [результаты](https://bugs.python.org/issue37114)\n",
    "Например в таком случае: "
   ]
  },
  {
   "cell_type": "code",
   "execution_count": 34,
   "metadata": {},
   "outputs": [
    {
     "data": {
      "text/plain": [
       "'ccc'"
      ]
     },
     "execution_count": 34,
     "metadata": {},
     "output_type": "execute_result"
    }
   ],
   "source": [
    "\"ababbbbbbaaccc\".lstrip(\"ab\")"
   ]
  },
  {
   "cell_type": "markdown",
   "metadata": {},
   "source": [
    "В Python 3.9 были [добавлены](https://www.python.org/dev/peps/pep-0616/) функции `removeprefix`, `removesuffix`, которые выполняют то, что от них ожидается: удаляют первые или последние несколько символов строки. "
   ]
  },
  {
   "cell_type": "code",
   "execution_count": 35,
   "metadata": {},
   "outputs": [
    {
     "data": {
      "text/plain": [
       "'abbbbbbaaccc'"
      ]
     },
     "execution_count": 35,
     "metadata": {},
     "output_type": "execute_result"
    }
   ],
   "source": [
    "\"ababbbbbbaaccc\".removeprefix(\"ab\")"
   ]
  },
  {
   "cell_type": "code",
   "execution_count": 36,
   "metadata": {},
   "outputs": [
    {
     "data": {
      "text/plain": [
       "'ababbbbbbaacc'"
      ]
     },
     "execution_count": 36,
     "metadata": {},
     "output_type": "execute_result"
    }
   ],
   "source": [
    "\"ababbbbbbaaccc\".removesuffix(\"c\")"
   ]
  },
  {
   "cell_type": "code",
   "execution_count": 36,
   "metadata": {},
   "outputs": [],
   "source": [
    "Если строка не содержит суффикс или префикс, строка не меняется, никаких исключений не появляется. "
   ]
  },
  {
   "cell_type": "code",
   "execution_count": 37,
   "metadata": {},
   "outputs": [
    {
     "data": {
      "text/plain": [
       "'ababbbbbbaaccc'"
      ]
     },
     "execution_count": 37,
     "metadata": {},
     "output_type": "execute_result"
    }
   ],
   "source": [
    "\"ababbbbbbaaccc\".removesuffix(\"something else\")"
   ]
  },
  {
   "cell_type": "markdown",
   "metadata": {},
   "source": [
    "Ссылки:\n",
    "* https://docs.python.org/3/whatsnew/3.9.html#summary-release-highlights"
   ]
  },
  {
   "cell_type": "markdown",
   "metadata": {},
   "source": [
    "# Python 3.10\n",
    "\n",
    "Последняя версия Python 3.10 это [0b3](https://www.python.org/downloads/release/python-3100b3/), которая вышла 17 июня 2021 года. Согласно расписанию релизов, полноценный релиз появится примерно в октябре 2021. \n",
    "Пока официального релиза нет, версия не доступна в пакетных менеджерах (таких как brew). Соответственно, чтобы ее установить, билд нужно скачать вручную с www.python.org и уствноваить на своей машине. \n",
    "Рассмотрим изменения, доступные в этой Python 3.9.\n",
    "\n",
    "## Pattern Matching\n",
    "\n",
    "В более ранних версиях Python если нужно описать различное поведение, в зависимости от того, какой объект используется, скорее всего будет использоваться условный оператор:\n"
   ]
  },
  {
   "cell_type": "code",
   "execution_count": null,
   "metadata": {},
   "outputs": [],
   "source": [
    "if isinstance(x, tuple) and len(x) == 2:\n",
    "    host, port = x\n",
    "    mode = \"http\"\n",
    "elif isinstance(x, tuple) and len(x) == 3:\n",
    "    host, port, mode = x"
   ]
  },
  {
   "cell_type": "markdown",
   "metadata": {},
   "source": [
    "Однако в Python 3.10 вместе с [PEP-0635](https://www.python.org/dev/peps/pep-0635/)  будет добавлен новый оператор match, который может использоваться с case:\n"
   ]
  },
  {
   "cell_type": "code",
   "execution_count": null,
   "metadata": {},
   "outputs": [],
   "source": [
    "match x:\n",
    "    case host, port:\n",
    "        mode = \"http\"\n",
    "    case host, port, mode:\n",
    "        pass\n",
    "    cass Class1:\n",
    "        ...\n",
    "    case host == 'localhost'\n",
    "    ..."
   ]
  },
  {
   "source": [
    "Также с его помощью будет удобно реализовывать, например, обработку ошибок:"
   ],
   "cell_type": "markdown",
   "metadata": {}
  },
  {
   "cell_type": "code",
   "execution_count": null,
   "metadata": {},
   "outputs": [],
   "source": [
    "def http_error(status):\n",
    "    match status:\n",
    "        case 400:\n",
    "            return \"Bad request\"\n",
    "        case 404:\n",
    "            return \"Not found\"\n",
    "        case 418:\n",
    "            return \"I'm a teapot\"\n",
    "        case _:\n",
    "            return \"Something's wrong with the Internet\""
   ]
  },
  {
   "source": [
    "Это одно из самых \"громких\" нововведений в последних версиях Python и возможно самое ожидаемое коммьюнити. "
   ],
   "cell_type": "markdown",
   "metadata": {}
  },
  {
   "cell_type": "markdown",
   "metadata": {},
   "source": [
    "## Более удобное использование Union для типирования:\n",
    "Если раньше чтобы указать, что аргумент функции может быть одним из нескольких типов, необходимо было использовать Union, импортируемый из пакета typing:"
   ]
  },
  {
   "cell_type": "code",
   "execution_count": null,
   "metadata": {},
   "outputs": [],
   "source": [
    "from typing import Union\n",
    "\n",
    "def square(number: Union[int, float]) -> Union[int, float]:\n",
    "    return number ** 2\n"
   ]
  },
  {
   "cell_type": "markdown",
   "metadata": {},
   "source": [
    "То начиная с Python 3.10 можно будет заменить его оператором pipe | и, соответственно, избавиться от импорта:\n"
   ]
  },
  {
   "cell_type": "code",
   "execution_count": null,
   "metadata": {},
   "outputs": [],
   "source": [
    "def square(number: int | float) -> int | float:\n",
    "    return number ** 2"
   ]
  },
  {
   "cell_type": "markdown",
   "metadata": {},
   "source": [
    "## Контекстные менеджеры"
   ]
  },
  {
   "source": [
    "Синтаксис работы с контекстными менеджерами упростится, теперь несколько контекстных менеджеров можно объединять в одном `with`, а так же не обязательно присваивать им локальные имена:"
   ],
   "cell_type": "markdown",
   "metadata": {}
  },
  {
   "cell_type": "code",
   "execution_count": null,
   "metadata": {},
   "outputs": [],
   "source": [
    "with (\n",
    "    CtxManager1(),\n",
    "    CtxManager2()\n",
    "):\n",
    "    ...\n",
    "\n",
    "with (CtxManager1() as example,\n",
    "      CtxManager2()):\n",
    "    ...\n",
    "\n",
    "with (\n",
    "    CtxManager1() as example1,\n",
    "    CtxManager2() as example2\n",
    "):\n",
    "    ..."
   ]
  },
  {
   "cell_type": "markdown",
   "metadata": {},
   "source": [
    "## Более информативные сообщения об ошибках\n",
    "\n",
    "Наверняка многие из читателей сталкивались с тем, что сообщение об ошибке слишком общее и само по себе не говорит о том, что нужно сделать чтобы ошибку исправить. В новой версиеи Python core-разработчики улучшили самые распространенные из них и теперь сообщения об ошибках будут намного более читабельными:"
   ]
  },
  {
   "cell_type": "code",
   "execution_count": null,
   "metadata": {},
   "outputs": [],
   "source": [
    "expected = {9: 1, 18: 2, 19: 2, 27: 3, 28: 3, 29: 3, 36: 4, 37: 4,\n",
    "           ^\n",
    "SyntaxError: '{' was never closed"
   ]
  },
  {
   "cell_type": "code",
   "execution_count": null,
   "metadata": {},
   "outputs": [],
   "source": [
    ">>> if rocket.position > event_horizon\n",
    "  File \"<stdin>\", line 1\n",
    "    if rocket.position > event_horizon\n",
    "                                      ^\n",
    "SyntaxError: expected ':'"
   ]
  },
  {
   "cell_type": "code",
   "execution_count": null,
   "metadata": {},
   "outputs": [],
   "source": [
    ">>> {x,y for x,y in range(100)}\n",
    "  File \"<stdin>\", line 1\n",
    "    {x,y for x,y in range(100)}\n",
    "     ^\n",
    "SyntaxError: did you forget parentheses around the comprehension target?"
   ]
  },
  {
   "cell_type": "code",
   "execution_count": null,
   "metadata": {},
   "outputs": [],
   "source": [
    " if rocket.position = event_horizon:\n",
    "  File \"<stdin>\", line 1\n",
    "    if rocket.position = event_horizon:\n",
    "                       ^\n",
    "SyntaxError: cannot assign to attribute here. Maybe you meant '==' instead"
   ]
  },
  {
   "cell_type": "code",
   "execution_count": null,
   "metadata": {},
   "outputs": [],
   "source": [
    "def foo():\n",
    "...    if lel:\n",
    "...    x = 2\n",
    "  File \"<stdin>\", line 3\n",
    "    x = 2\n",
    "    ^\n",
    "IndentationError: expected an indented block after 'if' statement in line 2"
   ]
  },
  {
   "cell_type": "markdown",
   "metadata": {},
   "source": [
    "## Остальное\n",
    "\n",
    "* Модуль distutils постепенно выыводится из употребления, чтобы быть полностью удаленным в Python 3.12. Это связано с тем, что его функции были полностью заменены такими модулями как setuptools и packaging.\n",
    "\n",
    "* Улучшение читабельности сообщений в модуле [debugging](https://www.python.org/dev/peps/pep-0626/)\n",
    "\n",
    "Это не все изменения которые попадут в Python 3.10, с полным списком можно ознакомиться посмотрев [список изменений](https://docs.python.org/3.10/whatsnew/changelog.html#changelog)"
   ]
  },
  {
   "cell_type": "markdown",
   "metadata": {},
   "source": []
  }
 ],
 "metadata": {
  "kernelspec": {
   "name": "python390jvsc74a57bd0aee8b7b246df8f9039afb4144a1f6fd8d2ca17a180786b69acc140d282b71a49",
   "display_name": "Python 3.9.0 64-bit"
  },
  "language_info": {
   "codemirror_mode": {
    "name": "ipython",
    "version": 3
   },
   "file_extension": ".py",
   "mimetype": "text/x-python",
   "name": "python",
   "nbconvert_exporter": "python",
   "pygments_lexer": "ipython3",
   "version": "3.9.0"
  },
  "metadata": {
   "interpreter": {
    "hash": "aee8b7b246df8f9039afb4144a1f6fd8d2ca17a180786b69acc140d282b71a49"
   }
  }
 },
 "nbformat": 4,
 "nbformat_minor": 2
}